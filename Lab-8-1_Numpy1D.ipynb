{
 "cells": [
  {
   "cell_type": "markdown",
   "metadata": {
    "id": "ZDcbSEp_Wbc0"
   },
   "source": [
    "\n",
    "#Lab 8.1 Numpy 1D trong Python\n",
    "\n",
    "Thời lượng ước tính: **30** phút\n",
    "\n",
    "## Mục tiêu\n",
    "\n",
    "Sau khi hoàn thành lab này, bạn sẽ có thể:\n",
    "\n",
    "-   Nhập và sử dụng thư viện `numpy` \n",
    "-   Thực hiện các thao tác với `numpy`\n"
   ]
  },
  {
   "cell_type": "markdown",
   "metadata": {
    "id": "xncvnkQ3Wbc_"
   },
   "source": [
    "<h2>Mục lục</h2>\n",
    "<div class=\"alert alert-block alert-info\" style=\"margin-top: 20px\">\n",
    "    <ul>\n",
    "        <li><a href=\"pre\">Chuẩn bị</a></li>\n",
    "        <li>\n",
    "            <a href=\"numpy\">Numpy là gì?</a>\n",
    "            <ul>\n",
    "                <li><a href=\"type\">Kiểu (Type)</a></li>\n",
    "                <li><a href=\"val\">Gán giá trị</a></li>\n",
    "                <li><a href=\"slice\">Slicing</a></li>\n",
    "                <li><a href=\"list\">Gán giá trị với List</a></li>\n",
    "                <li><a href=\"other\">Các thuộc tính khác</a></li>\n",
    "            </ul>\n",
    "        </li>\n",
    "        <li>\n",
    "            <a href=\"op\">Các hoạt động mảng Numpy</a>\n",
    "            <ul>\n",
    "                <li><a href=\"add\">Cộng mảng</a></li>\n",
    "                <li><a href=\"multi\">Nhân mảng</a></li>\n",
    "                <li><a href=\"prod\">Tích của 2 mảng Numpy</a></li>\n",
    "                <li><a href=\"dot\">Tích vô hướng</a></li>\n",
    "                <li><a href=\"cons\">Cộng hằng số vào mảng Numpy</a></li>\n",
    "            </ul>\n",
    "        </li>\n",
    "        <li><a href=\"math\">Hàm số</a></li>\n",
    "        <li><a href=\"lin\">Linspace</a></li>\n",
    "    </ul>\n",
    "\n",
    "</div>\n",
    "\n",
    "<hr>\n"
   ]
  },
  {
   "cell_type": "markdown",
   "metadata": {
    "id": "qAIoREH_WbdB"
   },
   "source": [
    "<h2 id=\"pre\">Chuẩn bị</h2>\n"
   ]
  },
  {
   "cell_type": "code",
   "execution_count": null,
   "metadata": {
    "collapsed": true,
    "id": "d_muOukUWbdB",
    "jupyter": {
     "outputs_hidden": true
    }
   },
   "outputs": [],
   "source": [
    "# Import the libraries\n",
    "\n",
    "import time \n",
    "import sys\n",
    "import numpy as np \n",
    "\n",
    "import matplotlib.pyplot as plt\n",
    "%matplotlib inline  "
   ]
  },
  {
   "cell_type": "code",
   "execution_count": 7,
   "metadata": {
    "id": "FksVo37_WbdC"
   },
   "outputs": [],
   "source": [
    "# Plotting functions\n",
    "\n",
    "def Plotvec1(u, z, v):\n",
    "    \n",
    "    ax = plt.axes()\n",
    "    ax.arrow(0, 0, *u, head_width=0.05, color='r', head_length=0.1)\n",
    "    plt.text(*(u + 0.1), 'u')\n",
    "    \n",
    "    ax.arrow(0, 0, *v, head_width=0.05, color='b', head_length=0.1)\n",
    "    plt.text(*(v + 0.1), 'v')\n",
    "    ax.arrow(0, 0, *z, head_width=0.05, head_length=0.1)\n",
    "    plt.text(*(z + 0.1), 'z')\n",
    "    plt.ylim(-2, 2)\n",
    "    plt.xlim(-2, 2)\n",
    "\n",
    "def Plotvec2(a,b):\n",
    "    ax = plt.axes()\n",
    "    ax.arrow(0, 0, *a, head_width=0.05, color ='r', head_length=0.1)\n",
    "    plt.text(*(a + 0.1), 'a')\n",
    "    ax.arrow(0, 0, *b, head_width=0.05, color ='b', head_length=0.1)\n",
    "    plt.text(*(b + 0.1), 'b')\n",
    "    plt.ylim(-2, 2)\n",
    "    plt.xlim(-2, 2)"
   ]
  },
  {
   "cell_type": "markdown",
   "metadata": {
    "id": "LDRTGZKXWbdD"
   },
   "source": [
    "Tạo một list Python như sau:"
   ]
  },
  {
   "cell_type": "code",
   "execution_count": null,
   "metadata": {
    "id": "54-RaQ5YWbdD"
   },
   "outputs": [],
   "source": [
    "# Create a python list\n",
    "\n",
    "a = [\"0\", 1, \"two\", \"3\", 4]"
   ]
  },
  {
   "cell_type": "markdown",
   "metadata": {
    "id": "_ySY33arWbdD"
   },
   "source": [
    "Chúng ta có thể truy cập dữ liệu thông qua chỉ mục:"
   ]
  },
  {
   "cell_type": "markdown",
   "metadata": {
    "id": "uhddELRAWbdE"
   },
   "source": [
    "<img src=\"https://cf-courses-data.s3.us.cloud-object-storage.appdomain.cloud/IBMDeveloperSkillsNetwork-PY0101EN-SkillsNetwork/labs/Module%205/images/NumOneList.png\" width=\"660\" />\n"
   ]
  },
  {
   "cell_type": "markdown",
   "metadata": {
    "id": "tGLAhAaJWbdE"
   },
   "source": [
    "Chúng ta có thể truy cập từng phần tử bằng dấu ngoặc vuông như sau:"
   ]
  },
  {
   "cell_type": "code",
   "execution_count": null,
   "metadata": {
    "id": "UI-N_yQtWbdE"
   },
   "outputs": [],
   "source": [
    "# Print each element\n",
    "\n",
    "print(\"a[0]:\", a[0])\n",
    "print(\"a[1]:\", a[1])\n",
    "print(\"a[2]:\", a[2])\n",
    "print(\"a[3]:\", a[3])\n",
    "print(\"a[4]:\", a[4])"
   ]
  },
  {
   "cell_type": "markdown",
   "metadata": {
    "id": "SaPg-5XxWbdF"
   },
   "source": [
    "<hr>\n"
   ]
  },
  {
   "cell_type": "markdown",
   "metadata": {
    "id": "1xV57qobWbdF"
   },
   "source": [
    "<h2 id=\"numpy\">Numpy là gì?</h2>\n"
   ]
  },
  {
   "cell_type": "markdown",
   "metadata": {
    "id": "rrXk-UebWbdF"
   },
   "source": [
    "\n",
    "Mảng numpy tương tự như list. Nó thường cố định về kích thước và mỗi phần tử là cùng kiểu. Chúng ta có thể truyền một list vào mảng numpy bằng cách nhập numpy đầu tiên:"
   ]
  },
  {
   "cell_type": "code",
   "execution_count": null,
   "metadata": {
    "id": "qZMGL58vWbdF"
   },
   "outputs": [],
   "source": [
    "# import numpy library\n",
    "\n",
    "import numpy as np "
   ]
  },
  {
   "cell_type": "markdown",
   "metadata": {
    "id": "JAO8o4R9WbdG"
   },
   "source": [
    "Sau đó, chúng ta ép kiểu list như sau:"
   ]
  },
  {
   "cell_type": "code",
   "execution_count": null,
   "metadata": {
    "id": "gFb7_FJzWbdG"
   },
   "outputs": [],
   "source": [
    "# Create a numpy array\n",
    "\n",
    "a = np.array([0, 1, 2, 3, 4])\n",
    "a"
   ]
  },
  {
   "cell_type": "markdown",
   "metadata": {
    "id": "L5vfajYmWbdG"
   },
   "source": [
    "Mỗi phần tử có cùng kiểu, trong trường hợp này là các số nguyên:"
   ]
  },
  {
   "cell_type": "markdown",
   "metadata": {
    "id": "T3R1w5VfWbdG"
   },
   "source": [
    "<img src=\"https://cf-courses-data.s3.us.cloud-object-storage.appdomain.cloud/IBMDeveloperSkillsNetwork-PY0101EN-SkillsNetwork/labs/Module%205/images/NumOneNp.png\" width=\"500\" />\n"
   ]
  },
  {
   "cell_type": "markdown",
   "metadata": {
    "id": "t42SyA0ZWbdG"
   },
   "source": [
    "Như với list, chúng ta có thể truy cập từng phần tử thông qua dấu ngoặc vuông:"
   ]
  },
  {
   "cell_type": "code",
   "execution_count": null,
   "metadata": {
    "id": "2nIuzl2JWbdH"
   },
   "outputs": [],
   "source": [
    "# Print each element\n",
    "\n",
    "print(\"a[0]:\", a[0])\n",
    "print(\"a[1]:\", a[1])\n",
    "print(\"a[2]:\", a[2])\n",
    "print(\"a[3]:\", a[3])\n",
    "print(\"a[4]:\", a[4])"
   ]
  },
  {
   "cell_type": "markdown",
   "metadata": {
    "id": "9iGjJz1dWbdH"
   },
   "source": [
    "<h3 id=\"type\">Kiểu</h3>\n"
   ]
  },
  {
   "cell_type": "markdown",
   "metadata": {
    "id": "Yj0g5tTdWbdH"
   },
   "source": [
    "Nếu kiểm tra kiểu của mảng, ta được <b>numpy.ndarray</b>:"
   ]
  },
  {
   "cell_type": "code",
   "execution_count": null,
   "metadata": {
    "id": "DneQCOvIWbdH"
   },
   "outputs": [],
   "source": [
    "# Check the type of the array\n",
    "\n",
    "type(a)"
   ]
  },
  {
   "cell_type": "markdown",
   "metadata": {
    "id": "zQr2JaoIWbdI"
   },
   "source": [
    "Vì các mảng không chứa dữ liệu cùng kiểu, chúng ta có thể sử dụng thuộc tính \"dtype\" để lấy Kiểu dữ liệu của các phần tử của mảng. Trong trường hợp này là số nguyên 64 bit:"
   ]
  },
  {
   "cell_type": "code",
   "execution_count": null,
   "metadata": {
    "id": "Iw-UdpcAWbdI"
   },
   "outputs": [],
   "source": [
    "# Check the type of the values stored in numpy array\n",
    "\n",
    "a.dtype"
   ]
  },
  {
   "cell_type": "markdown",
   "metadata": {
    "id": "gyYqet1KWbdI"
   },
   "source": [
    "Chúng ta có thể tạo một mảng numpy với các số thực:"
   ]
  },
  {
   "cell_type": "code",
   "execution_count": null,
   "metadata": {
    "id": "h7O54_SxWbdI"
   },
   "outputs": [],
   "source": [
    "# Create a numpy array\n",
    "\n",
    "b = np.array([3.1, 11.02, 6.2, 213.2, 5.2])"
   ]
  },
  {
   "cell_type": "markdown",
   "metadata": {
    "id": "5cGsL3iuWbdJ"
   },
   "source": [
    "Khi kiểm tra kiểu của mảng, ta được <b>numpy.ndarray</b>:"
   ]
  },
  {
   "cell_type": "code",
   "execution_count": null,
   "metadata": {
    "id": "TiahoKv6WbdJ"
   },
   "outputs": [],
   "source": [
    "# Check the type of array\n",
    "\n",
    "type(b)"
   ]
  },
  {
   "cell_type": "markdown",
   "metadata": {
    "id": "tuqGWljmWbdJ"
   },
   "source": [
    "Nếu kiểm tra thuộc tính <code> dtype</code>, chúng ta sẽ thấy float64 vì các phần tử không phải là số nguyên:"
   ]
  },
  {
   "cell_type": "code",
   "execution_count": null,
   "metadata": {
    "id": "qQ_9LX4CWbdJ"
   },
   "outputs": [],
   "source": [
    "# Check the value type\n",
    "\n",
    "b.dtype"
   ]
  },
  {
   "cell_type": "markdown",
   "metadata": {
    "id": "dYoL4LYXWbdJ"
   },
   "source": [
    "<h3 id=\"val\">Gán giá trị</h3>\n"
   ]
  },
  {
   "cell_type": "markdown",
   "metadata": {
    "id": "k_lbrW79WbdK"
   },
   "source": [
    "Chúng ta có thể thay đổi giá trị của mảng, hãy xem xét mảng <code> c</code>:"
   ]
  },
  {
   "cell_type": "code",
   "execution_count": null,
   "metadata": {
    "id": "W3KQpH5GWbdK"
   },
   "outputs": [],
   "source": [
    "# Create numpy array\n",
    "\n",
    "c = np.array([20, 1, 2, 3, 4])\n",
    "c"
   ]
  },
  {
   "cell_type": "markdown",
   "metadata": {
    "id": "UMJTWc2jWbdK"
   },
   "source": [
    "Chúng ta có thể thay đổi phần tử đầu tiên của mảng thành 100 như sau:"
   ]
  },
  {
   "cell_type": "code",
   "execution_count": null,
   "metadata": {
    "id": "UMpzZFS8WbdL"
   },
   "outputs": [],
   "source": [
    "# Assign the first element to 100\n",
    "\n",
    "c[0] = 100\n",
    "c"
   ]
  },
  {
   "cell_type": "markdown",
   "metadata": {
    "id": "rH3RTBc7WbdL"
   },
   "source": [
    "Chúng ta có thể thay đổi phần tử thứ 5 của mảng thành 0 như sau:"
   ]
  },
  {
   "cell_type": "code",
   "execution_count": null,
   "metadata": {
    "id": "gZQao_BNWbdL"
   },
   "outputs": [],
   "source": [
    "# Assign the 5th element to 0\n",
    "\n",
    "c[4] = 0\n",
    "c"
   ]
  },
  {
   "cell_type": "markdown",
   "metadata": {
    "id": "LmLrGsNEWbdL"
   },
   "source": [
    "<h3 id=\"slice\">Slicing</h3>\n"
   ]
  },
  {
   "cell_type": "markdown",
   "metadata": {
    "id": "Y_kTFnhqWbdL"
   },
   "source": [
    "Giống list, chúng ta có thể cắt mảng numpy, chọn các phần tử từ 1 đến 3 và gán nó vào mảng numpy <code> d</code> mới như sau:"
   ]
  },
  {
   "cell_type": "code",
   "execution_count": null,
   "metadata": {
    "id": "WR89dXcPWbdM"
   },
   "outputs": [],
   "source": [
    "# Slicing the numpy array\n",
    "\n",
    "d = c[1:4]\n",
    "d"
   ]
  },
  {
   "cell_type": "markdown",
   "metadata": {
    "id": "meFrelu2WbdM"
   },
   "source": [
    "Chúng ta có thể gán các chỉ mục tương ứng cho các giá trị mới như sau:"
   ]
  },
  {
   "cell_type": "code",
   "execution_count": null,
   "metadata": {
    "id": "IJnOmcK6WbdM"
   },
   "outputs": [],
   "source": [
    "# Set the fourth element and fifth element to 300 and 400\n",
    "\n",
    "c[3:5] = 300, 400\n",
    "c"
   ]
  },
  {
   "cell_type": "markdown",
   "metadata": {
    "id": "iOFlHEsMWbdM"
   },
   "source": [
    "<h3 id=\"list\">Gán giá trị với List</h3>\n"
   ]
  },
  {
   "cell_type": "markdown",
   "metadata": {
    "id": "ovsb5gSOWbdM"
   },
   "source": [
    "Tương tự, chúng ta có thể sử dụng một list để chọn một chỉ mục cụ thể.\n",
    "List 'select' chứa một số giá trị:"
   ]
  },
  {
   "cell_type": "code",
   "execution_count": null,
   "metadata": {
    "collapsed": true,
    "id": "ZCuBz21kWbdM",
    "jupyter": {
     "outputs_hidden": true
    }
   },
   "outputs": [],
   "source": [
    "# Create the index list\n",
    "\n",
    "select = [0, 2, 3]"
   ]
  },
  {
   "cell_type": "markdown",
   "metadata": {
    "id": "EMOyd1wLWbdN"
   },
   "source": [
    "Chúng ta có thể sử dụng list như một đối số trong ngoặc. Đầu ra là các phần tử tương ứng với chỉ số cụ thể:"
   ]
  },
  {
   "cell_type": "code",
   "execution_count": null,
   "metadata": {
    "id": "UWrRWot8WbdN"
   },
   "outputs": [],
   "source": [
    "# Use List to select elements\n",
    "\n",
    "d = c[select]\n",
    "d"
   ]
  },
  {
   "cell_type": "markdown",
   "metadata": {
    "id": "-3gH7Wv7WbdO"
   },
   "source": [
    "Chúng ta có thể gán các phần tử được chỉ định cho một giá trị mới. Ví dụ, chúng ta có thể gán các giá trị cho 100 000 như sau:"
   ]
  },
  {
   "cell_type": "code",
   "execution_count": null,
   "metadata": {
    "id": "vxadh76sWbdO"
   },
   "outputs": [],
   "source": [
    "# Assign the specified elements to new value\n",
    "\n",
    "c[select] = 100000\n",
    "c"
   ]
  },
  {
   "cell_type": "markdown",
   "metadata": {
    "id": "LbPT793tWbdO"
   },
   "source": [
    "<h3 id=\"other\">Các thuộc tính khác</h3>\n"
   ]
  },
  {
   "cell_type": "markdown",
   "metadata": {
    "id": "1sE0P2N6WbdO"
   },
   "source": [
    "Hãy xem lại một số thuộc tính cơ bản của mảng bằng cách sử dụng mảng <code> a</code>:"
   ]
  },
  {
   "cell_type": "code",
   "execution_count": null,
   "metadata": {
    "id": "SWfFpNlnWbdO"
   },
   "outputs": [],
   "source": [
    "# Create a numpy array\n",
    "\n",
    "a = np.array([0, 1, 2, 3, 4])\n",
    "a"
   ]
  },
  {
   "cell_type": "markdown",
   "metadata": {
    "id": "J_FhP3XvWbdP"
   },
   "source": [
    "Thuộc tính <code> size</code> là số phần tử trong mảng:"
   ]
  },
  {
   "cell_type": "code",
   "execution_count": null,
   "metadata": {
    "id": "V2RX49xDWbdP"
   },
   "outputs": [],
   "source": [
    "# Get the size of numpy array\n",
    "\n",
    "a.size"
   ]
  },
  {
   "cell_type": "markdown",
   "metadata": {
    "id": "jfHmcy-UWbdP"
   },
   "source": [
    "Hai thuộc tính tiếp theo sẽ có ý nghĩa hơn khi chúng ta được kích thước cao hơn nhưng hãy xem lại chúng. Thuộc tính <code> ndim</code> đại diện cho số lượng chiều hoặc thứ hạng của mảng, trong trường hợp này là:"
   ]
  },
  {
   "cell_type": "code",
   "execution_count": null,
   "metadata": {
    "id": "fCw0RRreWbdP"
   },
   "outputs": [],
   "source": [
    "# Get the number of dimensions of numpy array\n",
    "\n",
    "a.ndim"
   ]
  },
  {
   "cell_type": "markdown",
   "metadata": {
    "id": "hePObb_xWbdP"
   },
   "source": [
    "Thuộc tính <code> shape</code> là một tập hợp các số nguyên cho biết kích thước của mảng theo từng chiều:"
   ]
  },
  {
   "cell_type": "code",
   "execution_count": null,
   "metadata": {
    "id": "zDsXXdvTWbdQ"
   },
   "outputs": [],
   "source": [
    "# Get the shape/size of numpy array\n",
    "\n",
    "a.shape"
   ]
  },
  {
   "cell_type": "code",
   "execution_count": null,
   "metadata": {
    "collapsed": true,
    "id": "kaO0xsr8WbdQ",
    "jupyter": {
     "outputs_hidden": true
    }
   },
   "outputs": [],
   "source": [
    "# Create a numpy array\n",
    "\n",
    "a = np.array([1, -1, 1, -1])"
   ]
  },
  {
   "cell_type": "code",
   "execution_count": null,
   "metadata": {
    "id": "OWVL_r07WbdQ"
   },
   "outputs": [],
   "source": [
    "# Get the mean of numpy array\n",
    "\n",
    "mean = a.mean()\n",
    "mean"
   ]
  },
  {
   "cell_type": "code",
   "execution_count": null,
   "metadata": {
    "id": "q4BCnEucWbdQ"
   },
   "outputs": [],
   "source": [
    "# Get the standard deviation of numpy array\n",
    "\n",
    "standard_deviation=a.std()\n",
    "standard_deviation"
   ]
  },
  {
   "cell_type": "code",
   "execution_count": null,
   "metadata": {
    "id": "t2Ll4gs6WbdQ"
   },
   "outputs": [],
   "source": [
    "# Create a numpy array\n",
    "\n",
    "b = np.array([-1, 2, 3, 4, 5])\n",
    "b"
   ]
  },
  {
   "cell_type": "code",
   "execution_count": null,
   "metadata": {
    "id": "rEVf0cD-WbdR"
   },
   "outputs": [],
   "source": [
    "# Get the biggest value in the numpy array\n",
    "\n",
    "max_b = b.max()\n",
    "max_b"
   ]
  },
  {
   "cell_type": "code",
   "execution_count": null,
   "metadata": {
    "id": "Mh5PWUJ5WbdR"
   },
   "outputs": [],
   "source": [
    "# Get the smallest value in the numpy array\n",
    "\n",
    "min_b = b.min()\n",
    "min_b"
   ]
  },
  {
   "cell_type": "markdown",
   "metadata": {
    "id": "7NnbciU5WbdR"
   },
   "source": [
    "<hr>\n"
   ]
  },
  {
   "cell_type": "markdown",
   "metadata": {
    "id": "24_Sz15SWbdR"
   },
   "source": [
    "<h2 id=\"op\">Hoạt động mảng Numpy</h2>\n"
   ]
  },
  {
   "cell_type": "markdown",
   "metadata": {
    "id": "XSbg6xSUWbdR"
   },
   "source": [
    "<h3 id=\"add\">Cộng mảng</h3>\n"
   ]
  },
  {
   "cell_type": "markdown",
   "metadata": {
    "id": "Y1oqCfA9WbdR"
   },
   "source": [
    "Xem xét mảng numpy <code> u</code>:"
   ]
  },
  {
   "cell_type": "code",
   "execution_count": null,
   "metadata": {
    "id": "pi8f-lhhWbdS"
   },
   "outputs": [],
   "source": [
    "u = np.array([1, 0])\n",
    "u"
   ]
  },
  {
   "cell_type": "markdown",
   "metadata": {
    "id": "420Tfm0nWbdS"
   },
   "source": [
    "Xem xét mảng numpy <code>v</code>:\n"
   ]
  },
  {
   "cell_type": "code",
   "execution_count": null,
   "metadata": {
    "id": "lte20I6-WbdS"
   },
   "outputs": [],
   "source": [
    "v = np.array([0, 1])\n",
    "v"
   ]
  },
  {
   "cell_type": "markdown",
   "metadata": {
    "id": "LJNvk2MZWbdS"
   },
   "source": [
    "Chúng ta có thể cộng hai mảng và gán nó cho z:"
   ]
  },
  {
   "cell_type": "code",
   "execution_count": null,
   "metadata": {
    "id": "d6QXHhoWWbdT"
   },
   "outputs": [],
   "source": [
    "# Numpy Array Addition\n",
    "\n",
    "z = u + v\n",
    "z"
   ]
  },
  {
   "cell_type": "markdown",
   "metadata": {
    "id": "SgJUBd3GWbdT"
   },
   "source": [
    "Phép toán tương đương với phép cộng vectơ:"
   ]
  },
  {
   "cell_type": "code",
   "execution_count": null,
   "metadata": {
    "id": "L0-ken1cWbdT"
   },
   "outputs": [],
   "source": [
    "# Plot numpy arrays\n",
    "\n",
    "Plotvec1(u, z, v)"
   ]
  },
  {
   "cell_type": "markdown",
   "metadata": {
    "id": "LX50wf36WbdU"
   },
   "source": [
    "<h3 id=\"multi\">Nhân mảng</h3>\n"
   ]
  },
  {
   "cell_type": "markdown",
   "metadata": {
    "id": "tEMVzCOTWbdU"
   },
   "source": [
    "Hãy xem xét mảng numpy vectơ <code> y</code>:"
   ]
  },
  {
   "cell_type": "code",
   "execution_count": null,
   "metadata": {
    "id": "WiHKb9jkWbdU"
   },
   "outputs": [],
   "source": [
    "# Create a numpy array\n",
    "\n",
    "y = np.array([1, 2])\n",
    "y"
   ]
  },
  {
   "cell_type": "markdown",
   "metadata": {
    "id": "IBCCWU3mWbdU"
   },
   "source": [
    "Chúng ta có thể nhân mọi phần tử trong mảng với 2:"
   ]
  },
  {
   "cell_type": "code",
   "execution_count": null,
   "metadata": {
    "id": "togmrZ_vWbdU"
   },
   "outputs": [],
   "source": [
    "# Numpy Array Multiplication\n",
    "\n",
    "z = 2 * y\n",
    "z"
   ]
  },
  {
   "cell_type": "markdown",
   "metadata": {
    "id": "E6PRz-4CWbdU"
   },
   "source": [
    "Điều này tương đương với việc nhân một vectơ với một đại lượng vô hướng:"
   ]
  },
  {
   "cell_type": "markdown",
   "metadata": {
    "id": "4FEwCQyjWbdV"
   },
   "source": [
    "<h3 id=\"prod\">Tích của 2 mảng numpy</h3>\n"
   ]
  },
  {
   "cell_type": "markdown",
   "metadata": {
    "id": "bGyHD1gVWbdV"
   },
   "source": [
    "Hãy xem xét mảng <code> u</code> sau:"
   ]
  },
  {
   "cell_type": "code",
   "execution_count": null,
   "metadata": {
    "id": "wyJBTT-XWbdV"
   },
   "outputs": [],
   "source": [
    "# Create a numpy array\n",
    "\n",
    "u = np.array([1, 2])\n",
    "u"
   ]
  },
  {
   "cell_type": "markdown",
   "metadata": {
    "id": "gKE7ctljWbdV"
   },
   "source": [
    "Hãy xem xét mảng sau <code> v</code>:"
   ]
  },
  {
   "cell_type": "code",
   "execution_count": null,
   "metadata": {
    "id": "rIU6XZbeWbdV"
   },
   "outputs": [],
   "source": [
    "# Create a numpy array\n",
    "\n",
    "v = np.array([3, 2])\n",
    "v"
   ]
  },
  {
   "cell_type": "markdown",
   "metadata": {
    "id": "STTFkSIhWbdW"
   },
   "source": [
    "Tích của hai mảng numpy <code> u</code> và <code> v</code> được cho bởi:"
   ]
  },
  {
   "cell_type": "code",
   "execution_count": null,
   "metadata": {
    "id": "4ufK2jjeWbdW"
   },
   "outputs": [],
   "source": [
    "# Calculate the production of two numpy arrays\n",
    "\n",
    "z = u * v\n",
    "z"
   ]
  },
  {
   "cell_type": "markdown",
   "metadata": {
    "id": "QfyA1MxoWbdW"
   },
   "source": [
    "<h3 id=\"dot\">Tích vô hướng</h3>\n"
   ]
  },
  {
   "cell_type": "markdown",
   "metadata": {
    "id": "gcfxvSBcWbdW"
   },
   "source": [
    "Tích vô hướng của hai mảng numpy <code> u</code> và <code> v</code> được cho bởi:"
   ]
  },
  {
   "cell_type": "code",
   "execution_count": null,
   "metadata": {
    "id": "mg-ISiifWbdW"
   },
   "outputs": [],
   "source": [
    "# Calculate the dot product\n",
    "\n",
    "np.dot(u, v)"
   ]
  },
  {
   "cell_type": "markdown",
   "metadata": {
    "id": "dzYzJegmWbdW"
   },
   "source": [
    "<h3 id=\"cons\">Cộng hằng số vào một mảng Numpy</h3>\n"
   ]
  },
  {
   "cell_type": "markdown",
   "metadata": {
    "id": "1NS84tD8WbdX"
   },
   "source": [
    "Hãy xem xét mảng sau:"
   ]
  },
  {
   "cell_type": "code",
   "execution_count": null,
   "metadata": {
    "id": "XMq9NBFuWbdX"
   },
   "outputs": [],
   "source": [
    "# Create a constant to numpy array\n",
    "\n",
    "u = np.array([1, 2, 3, -1]) \n",
    "u"
   ]
  },
  {
   "cell_type": "markdown",
   "metadata": {
    "id": "KW6F6QjhWbdX"
   },
   "source": [
    "Cộng hằng số 1 vào mỗi phần tử trong mảng:"
   ]
  },
  {
   "cell_type": "code",
   "execution_count": null,
   "metadata": {
    "id": "PEWDzUJBWbdX"
   },
   "outputs": [],
   "source": [
    "# Add the constant to array\n",
    "\n",
    "u + 1"
   ]
  },
  {
   "cell_type": "markdown",
   "metadata": {
    "id": "RxCLUwuDWbdX"
   },
   "source": [
    "Quá trình này được tóm tắt trong hình động sau:"
   ]
  },
  {
   "cell_type": "markdown",
   "metadata": {
    "id": "iBGaQHQzWbdY"
   },
   "source": [
    "<img src=\"https://cf-courses-data.s3.us.cloud-object-storage.appdomain.cloud/IBMDeveloperSkillsNetwork-PY0101EN-SkillsNetwork/labs/Module%205/images/NumOneAdd.gif\" width=\"500\" />\n"
   ]
  },
  {
   "cell_type": "markdown",
   "metadata": {
    "id": "ChJK1dWYWbdY"
   },
   "source": [
    "<hr>\n"
   ]
  },
  {
   "cell_type": "markdown",
   "metadata": {
    "id": "n28Fd9orWbdY"
   },
   "source": [
    "<h2 id=\"math\">Hàm số</h2>\n"
   ]
  },
  {
   "cell_type": "markdown",
   "metadata": {
    "id": "I_qz91GsWbdY"
   },
   "source": [
    "Chúng ta có thể truy cập giá trị của <code> pi</code> trong numpy như sau:"
   ]
  },
  {
   "cell_type": "code",
   "execution_count": null,
   "metadata": {
    "id": "KD7_AYcXWbdY"
   },
   "outputs": [],
   "source": [
    "# The value of pi\n",
    "\n",
    "np.pi"
   ]
  },
  {
   "cell_type": "markdown",
   "metadata": {
    "id": "uB0Ic1l0WbdY"
   },
   "source": [
    "Chúng ta có thể tạo mảng numpy sau trong Radian:"
   ]
  },
  {
   "cell_type": "code",
   "execution_count": null,
   "metadata": {
    "id": "0ROTVMy9WbdZ"
   },
   "outputs": [],
   "source": [
    "# Create the numpy array in radians\n",
    "\n",
    "x = np.array([0, np.pi/2 , np.pi])"
   ]
  },
  {
   "cell_type": "markdown",
   "metadata": {
    "id": "_bvTtSS6WbdZ"
   },
   "source": [
    "Chúng ta có thể vận dụng hàm <code> sin</code> cho mảng <code> x</code> và gán các giá trị cho mảng <code> y</code>; điều này áp dụng hàm sin cho mỗi phần tử trong mảng:"
   ]
  },
  {
   "cell_type": "code",
   "execution_count": null,
   "metadata": {
    "id": "KTuJxURGWbdZ"
   },
   "outputs": [],
   "source": [
    "# Calculate the sin of each elements\n",
    "\n",
    "y = np.sin(x)\n",
    "y"
   ]
  },
  {
   "cell_type": "markdown",
   "metadata": {
    "id": "qJPzykNzWbdZ"
   },
   "source": [
    "<hr>\n"
   ]
  },
  {
   "cell_type": "markdown",
   "metadata": {
    "id": "tQw39LDrWbdZ"
   },
   "source": [
    "<h2 id=\"lin\">Linspace</h2>\n"
   ]
  },
  {
   "cell_type": "markdown",
   "metadata": {
    "id": "9nPf4jC3WbdZ"
   },
   "source": [
    "<code> Linspace</code> là một hàm hữu ích để vẽ các hàm toán học. Linspace trả về các số cách đều nhau trong một khoảng được chỉ định. Chúng ta chỉ định điểm bắt đầu và kết thúc của dãy. Tham số \"num\" cho biết số lượng mẫu cần tạo, trong trường hợp này là 5:"
   ]
  },
  {
   "cell_type": "code",
   "execution_count": null,
   "metadata": {
    "id": "qZFZ0wV6Wbda"
   },
   "outputs": [],
   "source": [
    "# Makeup a numpy array within [-2, 2] and 5 elements\n",
    "\n",
    "np.linspace(-2, 2, num=5)"
   ]
  },
  {
   "cell_type": "markdown",
   "metadata": {
    "id": "TWr3Y9tnWbda"
   },
   "source": [
    "Nếu thay đổi tham số <code> num</code> thành 9, chúng ta được 9 số cách đều nhau trong khoảng từ -2 đến 2:"
   ]
  },
  {
   "cell_type": "code",
   "execution_count": null,
   "metadata": {
    "id": "aJmPl-vfWbda"
   },
   "outputs": [],
   "source": [
    "# Makeup a numpy array within [-2, 2] and 9 elements\n",
    "\n",
    "np.linspace(-2, 2, num=9)"
   ]
  },
  {
   "cell_type": "markdown",
   "metadata": {
    "id": "Hy2M2edTWbda"
   },
   "source": [
    "Chúng ta có thể sử dụng hàm <code> linspace</code> để tạo 100 mẫu cách đều nhau từ khoảng 0 đến 2π:"
   ]
  },
  {
   "cell_type": "code",
   "execution_count": null,
   "metadata": {
    "id": "1xKU33mpWbdb"
   },
   "outputs": [],
   "source": [
    "# Makeup a numpy array within [0, 2π] and 100 elements \n",
    "\n",
    "x = np.linspace(0, 2*np.pi, num=100)"
   ]
  },
  {
   "cell_type": "markdown",
   "metadata": {
    "id": "EQgPgeK5Wbdb"
   },
   "source": [
    "Chúng ta có thể vận dụng hàm sin cho từng phần tử trong mảng <code> x</code> và gán nó cho mảng <code> y</code>:"
   ]
  },
  {
   "cell_type": "code",
   "execution_count": null,
   "metadata": {
    "collapsed": true,
    "id": "u_MA_J_yWbdb",
    "jupyter": {
     "outputs_hidden": true
    }
   },
   "outputs": [],
   "source": [
    "# Calculate the sine of x list\n",
    "\n",
    "y = np.sin(x)"
   ]
  },
  {
   "cell_type": "code",
   "execution_count": null,
   "metadata": {
    "id": "ZmiDbRNKWbdb"
   },
   "outputs": [],
   "source": [
    "# Plot the result\n",
    "\n",
    "plt.plot(x, y)"
   ]
  },
  {
   "cell_type": "markdown",
   "metadata": {
    "id": "Sf6yQsN8Wbdb"
   },
   "source": [
    "<hr>\n"
   ]
  },
  {
   "cell_type": "markdown",
   "metadata": {
    "id": "KpTxEDVqWbdb"
   },
   "source": [
    "<h2 id=\"quiz\">Quiz về Mảng Numpy 1D</h2>\n"
   ]
  },
  {
   "cell_type": "markdown",
   "metadata": {
    "id": "MQh2G6CRWbdc"
   },
   "source": [
    "Thực hiện phép trừ vectơ sau trong numpy: u-v"
   ]
  },
  {
   "cell_type": "code",
   "execution_count": 2,
   "metadata": {
    "id": "Ge0AlNPkWbdc"
   },
   "outputs": [
    {
     "data": {
      "text/plain": [
       "array([ 1, -1])"
      ]
     },
     "execution_count": 2,
     "metadata": {},
     "output_type": "execute_result"
    }
   ],
   "source": [
    "# Write your code below and press Shift+Enter to execute\n",
    "\n",
    "import time \n",
    "import sys\n",
    "import numpy as np \n",
    "\n",
    "import matplotlib.pyplot as plt\n",
    "%matplotlib inline  \n",
    "u = np.array([1, 0])\n",
    "v = np.array([0, 1])\n",
    "u-v"
   ]
  },
  {
   "cell_type": "markdown",
   "metadata": {
    "id": "Yrh2j2IqWbdc"
   },
   "source": [
    "<details><summary>Bấm vào đây để xem đáp án</summary>\n",
    "\n",
    "```python\n",
    "u - v\n",
    "```\n",
    "\n",
    "</details>\n"
   ]
  },
  {
   "cell_type": "markdown",
   "metadata": {
    "id": "LP1da1dAWbdc"
   },
   "source": [
    "<hr>\n"
   ]
  },
  {
   "cell_type": "markdown",
   "metadata": {
    "id": "oXJK-gyeWbdd"
   },
   "source": [
    "Nhân mảng numpy z với -2:"
   ]
  },
  {
   "cell_type": "code",
   "execution_count": 3,
   "metadata": {
    "id": "s4Uh1zWDWbdd"
   },
   "outputs": [
    {
     "data": {
      "text/plain": [
       "array([-4, -8])"
      ]
     },
     "execution_count": 3,
     "metadata": {},
     "output_type": "execute_result"
    }
   ],
   "source": [
    "# Write your code below and press Shift+Enter to execute\n",
    "\n",
    "z = np.array([2, 4])\n",
    "z * (-2)"
   ]
  },
  {
   "cell_type": "markdown",
   "metadata": {
    "id": "_UxNowXdWbdd"
   },
   "source": [
    "<details><summary>Bấm vào đây để xem đáp án</summary>\n",
    "\n",
    "```python\n",
    "-2 * z\n",
    "```\n",
    "\n",
    "</details>\n"
   ]
  },
  {
   "cell_type": "markdown",
   "metadata": {
    "id": "8jqbDxs7Wbdd"
   },
   "source": [
    "<hr>\n"
   ]
  },
  {
   "cell_type": "markdown",
   "metadata": {
    "id": "EHEyXet5Wbde"
   },
   "source": [
    "Xem xét list <code> [1, 2, 3, 4, 5]</code> và <code> [1, 0, 1, 0, 1]</code>, sau đó truyền cả hai danh sách sang một mảng numpy rồi nhân chúng với nhau:"
   ]
  },
  {
   "cell_type": "code",
   "execution_count": 4,
   "metadata": {
    "id": "pZZKtIfHWbde"
   },
   "outputs": [
    {
     "data": {
      "text/plain": [
       "array([1, 0, 3, 0, 5])"
      ]
     },
     "execution_count": 4,
     "metadata": {},
     "output_type": "execute_result"
    }
   ],
   "source": [
    "# Write your code below and press Shift+Enter to execute\n",
    "a = np.array([1, 2, 3, 4, 5])\n",
    "b = np.array([1, 0, 1, 0, 1])\n",
    "a * b"
   ]
  },
  {
   "cell_type": "markdown",
   "metadata": {
    "id": "FEf999TYWbdf"
   },
   "source": [
    "<details><summary>Bấm vào đây để xem đáp án</summary>\n",
    "\n",
    "```python\n",
    "a = np.array([1, 2, 3, 4, 5])\n",
    "b = np.array([1, 0, 1, 0, 1])\n",
    "a * b\n",
    "```\n",
    "\n",
    "</details>\n"
   ]
  },
  {
   "cell_type": "markdown",
   "metadata": {
    "id": "9zTSVznFWbdf"
   },
   "source": [
    "<hr>\n"
   ]
  },
  {
   "cell_type": "markdown",
   "metadata": {
    "id": "wO_WkcyLWbdf"
   },
   "source": [
    "Chuyển đổi list <code> [-1, 1]</code> và <code> [1, 1]</code> thành mảng numpy <code> a</code> và <code> b</code>. Sau đó, vẽ các mảng dưới dạng vectơ bằng cách sử dụng hàm <code> Plotvec2</code> và tìm tích vô hướng:"
   ]
  },
  {
   "cell_type": "code",
   "execution_count": 8,
   "metadata": {
    "id": "FIPujjM-Wbdg"
   },
   "outputs": [
    {
     "data": {
      "text/plain": [
       "0"
      ]
     },
     "execution_count": 8,
     "metadata": {},
     "output_type": "execute_result"
    },
    {
     "data": {
      "image/png": "[encoded data removed]",
      "text/plain": [
       "<Figure size 432x288 with 1 Axes>"
      ]
     },
     "metadata": {
      "needs_background": "light"
     },
     "output_type": "display_data"
    }
   ],
   "source": [
    "# Write your code below and press Shift+Enter to execute\n",
    "a = np.array([-1, 1])\n",
    "b = np.array([1, 1])\n",
    "Plotvec2(a, b)\n",
    "np.dot(a,b)"
   ]
  },
  {
   "cell_type": "markdown",
   "metadata": {
    "id": "oM_Gi-wrWbdg"
   },
   "source": [
    "<details><summary>Bấm vào đây để xem đáp án</summary>\n",
    "\n",
    "```python\n",
    "a = np.array([-1, 1])\n",
    "b = np.array([1, 1])\n",
    "Plotvec2(a, b)\n",
    "print(\"The dot product is\", np.dot(a,b))\n",
    "\n",
    "```\n",
    "\n",
    "</details>\n"
   ]
  },
  {
   "cell_type": "markdown",
   "metadata": {
    "id": "IVBMTkO5Wbdg"
   },
   "source": [
    "<hr>\n"
   ]
  },
  {
   "cell_type": "markdown",
   "metadata": {
    "id": "S5UcmstlWbdg"
   },
   "source": [
    "Chuyển đổi list <code> [1, 0]</code> và <code> [0, 1]</code> thành mảng numpy <code> a</code> và <code> b</code>. Sau đó, vẽ các mảng dưới dạng vectơ bằng cách sử dụng hàm <code> Plotvec2</code> và tìm tích vô hướng:"
   ]
  },
  {
   "cell_type": "code",
   "execution_count": 10,
   "metadata": {
    "id": "r8N4TZLTWbdg"
   },
   "outputs": [
    {
     "data": {
      "image/png": "[encoded data removed]",
      "text/plain": [
       "<Figure size 432x288 with 1 Axes>"
      ]
     },
     "metadata": {
      "needs_background": "light"
     },
     "output_type": "display_data"
    }
   ],
   "source": [
    "# Write your code below and press Shift+Enter to execute\n",
    "a = np.array([1,0])\n",
    "b = np.array([0,1])\n",
    "Plotvec2(a,b)"
   ]
  },
  {
   "cell_type": "markdown",
   "metadata": {
    "id": "8jafBFQRWbdh"
   },
   "source": [
    "<details><summary>Bấm vào đây để xem đáp án</summary>\n",
    "\n",
    "```python\n",
    "a = np.array([1, 0])\n",
    "b = np.array([0, 1])\n",
    "Plotvec2(a, b)\n",
    "print(\"The dot product is\", np.dot(a, b))\n",
    "\n",
    "```\n",
    "\n",
    "</details>\n"
   ]
  },
  {
   "cell_type": "markdown",
   "metadata": {
    "id": "QmUSgoWaWbdh"
   },
   "source": [
    "<hr>\n"
   ]
  },
  {
   "cell_type": "markdown",
   "metadata": {
    "id": "qiBqmHuEWbdh"
   },
   "source": [
    "Chuyển đổi list <code> [1, 1]</code> và <code> [0, 1]</code> thành mảng numpy <code> a</code> và <code> b</code>. Sau đó, vẽ các mảng dưới dạng vectơ bằng cách sử dụng hàm <code> Plotvec2</code> và tìm tích vô hướng:"
   ]
  },
  {
   "cell_type": "code",
   "execution_count": 11,
   "metadata": {
    "id": "ydSmOFteWbdh"
   },
   "outputs": [
    {
     "data": {
      "text/plain": [
       "1"
      ]
     },
     "execution_count": 11,
     "metadata": {},
     "output_type": "execute_result"
    },
    {
     "data": {
      "image/png": "[encoded data removed]",
      "text/plain": [
       "<Figure size 432x288 with 1 Axes>"
      ]
     },
     "metadata": {
      "needs_background": "light"
     },
     "output_type": "display_data"
    }
   ],
   "source": [
    "# Write your code below and press Shift+Enter to execute\n",
    "a = np.array([1,1])\n",
    "b = np.array([0,1])\n",
    "Plotvec2(a,b)\n",
    "np.dot(a,b)"
   ]
  },
  {
   "cell_type": "markdown",
   "metadata": {
    "id": "cvm4YMofWbdi"
   },
   "source": [
    "<details><summary>Bấm vào đây để xem đáp án</summary>\n",
    "\n",
    "```python\n",
    "a = np.array([1, 1])\n",
    "b = np.array([0, 1])\n",
    "Plotvec2(a, b)\n",
    "print(\"The dot product is\", np.dot(a, b))\n",
    "print(\"The dot product is\", np.dot(a, b))\n",
    "\n",
    "```\n",
    "\n",
    "</details>\n",
    " \n"
   ]
  },
  {
   "cell_type": "markdown",
   "metadata": {
    "id": "eoH1CopqWbdi"
   },
   "source": [
    "<hr>\n"
   ]
  },
  {
   "cell_type": "markdown",
   "metadata": {
    "id": "fXI5Mxc0Wbdi"
   },
   "source": [
    "Tại sao kết quả tích vô hướng của <code> [-1, 1]</code> và <code> [1, 1]</code> và tích vô hướng của <code> [1, 0] </code> và <code> [0, 1]</code> bằng 0, nhưng không bằng 0 đối với tích vô hướng của <code> [1, 1]</code> và <code> [0, 1]</code> ? <p><i> Gợi ý: Nghiên cứu các số liệu tương ứng, chú ý đến hướng mũi tên trỏ đến. </i></p>"
   ]
  },
  {
   "cell_type": "code",
   "execution_count": null,
   "metadata": {
    "id": "3hsC_Kj-Wbdi"
   },
   "outputs": [],
   "source": [
    "# Write your code below and press Shift+Enter to execute\n",
    "Vì khi các vector vuông góc với nhau thì tích vô hướng sẽ bằng 0"
   ]
  },
  {
   "cell_type": "markdown",
   "metadata": {
    "id": "Zq7cunFNWbdj"
   },
   "source": [
    "<details><summary>Bấm vào đây để xem đáp án</summary>\n",
    "\n",
    "```python\n",
    "The vectors used for question 4 and 5 are perpendicular. As a result, the dot product is zero. \n",
    "\n",
    "```\n",
    "\n",
    "</details>\n",
    " \n"
   ]
  },
  {
   "cell_type": "markdown",
   "metadata": {
    "id": "l92kTy1dWbdj"
   },
   "source": [
    "<hr>\n",
    "Nguồn: IBM\n",
    "<hr>\n"
   ]
  },
  {
   "cell_type": "code",
   "execution_count": null,
   "metadata": {},
   "outputs": [],
   "source": []
  }
 ],
 "metadata": {
  "colab": {
   "collapsed_sections": [
    "SAmXLWN8Wbdj"
   ],
   "provenance": []
  },
  "kernelspec": {
   "display_name": "Python 3 (ipykernel)",
   "language": "python",
   "name": "python3"
  },
  "language_info": {
   "codemirror_mode": {
    "name": "ipython",
    "version": 3
   },
   "file_extension": ".py",
   "mimetype": "text/x-python",
   "name": "python",
   "nbconvert_exporter": "python",
   "pygments_lexer": "ipython3",
   "version": "3.9.12"
  }
 },
 "nbformat": 4,
 "nbformat_minor": 4
}

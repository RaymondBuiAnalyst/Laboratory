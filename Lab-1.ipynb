{
 "cells": [
  {
   "cell_type": "code",
   "execution_count": 1,
   "id": "126e5a71-e4b0-4b6e-bdb0-0206e219907d",
   "metadata": {},
   "outputs": [
    {
     "data": {
      "text/plain": [
       "2"
      ]
     },
     "execution_count": 1,
     "metadata": {},
     "output_type": "execute_result"
    }
   ],
   "source": [
    "1+1"
   ]
  },
  {
   "cell_type": "markdown",
   "id": "d592ee90",
   "metadata": {},
   "source": [
    "Insert cell below after this row"
   ]
  },
  {
   "cell_type": "markdown",
   "id": "f87a2459",
   "metadata": {},
   "source": [
    "This is the new cell inserted with insert cell below function"
   ]
  },
  {
   "cell_type": "markdown",
   "id": "7c084229",
   "metadata": {},
   "source": [
    "This is the new cell inserted with insert cell above function"
   ]
  },
  {
   "cell_type": "markdown",
   "id": "d3ee45f1-8568-4dc4-9a31-be1b2f85cbdf",
   "metadata": {
    "tags": []
   },
   "source": [
    "Insert cell above after this line."
   ]
  },
  {
   "cell_type": "markdown",
   "id": "39eff105-7b17-4ec3-9448-7afa41b2247a",
   "metadata": {},
   "source": [
    "Đây là markdown nâng cao :\n",
    "<a href=\"https://www.cognitiveclass.ai\">Cognitive Class</a>\n",
    " (Lớp nhận thức) bằng cách nhấp chuột phải và mở trong tab mới. Bây giờ bạn sẽ thấy một hyperlink đến https://www.cognitiveclass.ai xuất hiện dưới dạng Cognitive Class.\n"
   ]
  },
  {
   "cell_type": "markdown",
   "id": "8fa53f8b-9f25-4a3b-b56e-822a2402ca86",
   "metadata": {},
   "source": [
    "# This is Header 1 markdown"
   ]
  },
  {
   "cell_type": "markdown",
   "id": "a1b8db53-002e-49cb-b1e6-22c78faa8c4d",
   "metadata": {},
   "source": [
    "## This is Header 2 markdown"
   ]
  },
  {
   "cell_type": "markdown",
   "id": "b1133a79-0efa-4eed-94b6-6720cee393d3",
   "metadata": {},
   "source": [
    "### This is Header 3 markdown"
   ]
  },
  {
   "cell_type": "markdown",
   "id": "cc86f469-bf21-42d0-bca6-fb273464ea3e",
   "metadata": {},
   "source": [
    "| Tiêu đề 1 | Tiêu đề 2 | \n",
    "| ------ | ------ | \n",
    "| Ô trong bảng | Ô trong bảng | "
   ]
  },
  {
   "cell_type": "markdown",
   "id": "a286f313-01c7-46ca-a2b4-46cb09cea3e3",
   "metadata": {},
   "source": [
    "| Cột 1 | Cột 2 | Cột 3|\n",
    "| --- | --- | ---| \n",
    "| Hàng 1 | Hàng 1 | Hàng 1 |\n",
    "| Hàng 2 | Hàng 2 | Hàng 2 |\n",
    "| Hàng 3 | Hàng 3 | Hàng 3 |\n",
    "| Hàng 4 | Hàng 4 | Hàng 4 |"
   ]
  }
 ],
 "metadata": {
  "kernelspec": {
   "display_name": "Python 3 (ipykernel)",
   "language": "python",
   "name": "python3"
  },
  "language_info": {
   "codemirror_mode": {
    "name": "ipython",
    "version": 3
   },
   "file_extension": ".py",
   "mimetype": "text/x-python",
   "name": "python",
   "nbconvert_exporter": "python",
   "pygments_lexer": "ipython3",
   "version": "3.9.12"
  }
 },
 "nbformat": 4,
 "nbformat_minor": 5
}
